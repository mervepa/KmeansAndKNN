{
 "metadata": {
  "language_info": {
   "codemirror_mode": {
    "name": "ipython",
    "version": 3
   },
   "file_extension": ".py",
   "mimetype": "text/x-python",
   "name": "python",
   "nbconvert_exporter": "python",
   "pygments_lexer": "ipython3",
   "version": "3.8.5"
  },
  "orig_nbformat": 2,
  "kernelspec": {
   "name": "python385jvsc74a57bd031ff804e05c542abfdab620000e5333bc9afc6a565bbee95afa27485d8eec998",
   "display_name": "Python 3.8.5 64-bit ('base': conda)"
  }
 },
 "nbformat": 4,
 "nbformat_minor": 2,
 "cells": [
  {
   "cell_type": "code",
   "execution_count": 1,
   "metadata": {},
   "outputs": [],
   "source": [
    "import numpy as np"
   ]
  },
  {
   "source": [
    "## INITIALIZATION"
   ],
   "cell_type": "markdown",
   "metadata": {}
  },
  {
   "cell_type": "code",
   "execution_count": 2,
   "metadata": {},
   "outputs": [],
   "source": [
    "# Reward matrix\n",
    "R = np.matrix([ [-1,-1,-1,-1,0,-1], # 100:Final state , -1 :Not Available , 0: Available (no reward)\n",
    "        [-1,-1,-1,0,-1,100],\n",
    "        [-1,-1,-1,0,-1,-1],\n",
    "        [-1,0,0,-1,0,-1],\n",
    "        [-1,0,0,-1,-1,100],\n",
    "        [-1,0,-1,-1,0,100] ])\n",
    "\n",
    "# Quality matrix\n",
    "Q = np.matrix(np.zeros([6,6])) # For the first time it filled by 0's\n",
    "\n",
    "gamma = 0.8"
   ]
  },
  {
   "source": [
    "## FUNCTIONS"
   ],
   "cell_type": "markdown",
   "metadata": {}
  },
  {
   "cell_type": "code",
   "execution_count": 3,
   "metadata": {},
   "outputs": [],
   "source": [
    "def get_next_action(state):\n",
    "    current_state_row = R[state,]\n",
    "    av_act = np.where(current_state_row >= 0)[1] # It takes the columns of greater and equal to 0 \n",
    "    next_action = int(np.random.choice(av_act,1)) #Choose randomly\n",
    "    return next_action"
   ]
  },
  {
   "cell_type": "code",
   "execution_count": 4,
   "metadata": {},
   "outputs": [],
   "source": [
    "def update(current_state, action, gamma):\n",
    "    \n",
    "    max_index = np.where(Q[action,] == np.max(Q[action,]))[1]\n",
    "\n",
    "    if max_index.shape[0] > 1:\n",
    "        max_index = int(np.random.choice(max_index, size = 1))\n",
    "    else:\n",
    "        max_index = int(max_index)\n",
    "    max_value = Q[action, max_index] # Max value in Q matrix\n",
    "    \n",
    "    # Q learning formula\n",
    "    Q[current_state, action] = R[current_state, action] + gamma * max_value\n"
   ]
  },
  {
   "source": [
    "## TRAINING"
   ],
   "cell_type": "markdown",
   "metadata": {}
  },
  {
   "cell_type": "code",
   "execution_count": 5,
   "metadata": {},
   "outputs": [
    {
     "output_type": "stream",
     "name": "stdout",
     "text": [
      "Trained Q matrix:\n[[  0.    0.    0.    0.   80.    0. ]\n [  0.    0.    0.   64.    0.  100. ]\n [  0.    0.    0.   64.    0.    0. ]\n [  0.   80.   51.2   0.   80.    0. ]\n [  0.   80.   51.2   0.    0.  100. ]\n [  0.   80.    0.    0.   80.  100. ]]\n"
     ]
    }
   ],
   "source": [
    "for i in range(10000):\n",
    "    current_state = np.random.randint(0, int(Q.shape[0])) # Gives the random ints 0 to 6\n",
    "    action = get_next_action(current_state) # We send current state \n",
    "    update(current_state,action,gamma) # And update the state using Q formula\n",
    "    \n",
    "# Normalize the \"trained\" Q matrix\n",
    "print(\"Trained Q matrix:\")\n",
    "print(Q/np.max(Q)*100)"
   ]
  },
  {
   "source": [
    "## "
   ],
   "cell_type": "markdown",
   "metadata": {}
  },
  {
   "source": [
    "## TESTING"
   ],
   "cell_type": "markdown",
   "metadata": {}
  },
  {
   "cell_type": "code",
   "execution_count": 6,
   "metadata": {},
   "outputs": [],
   "source": [
    "# Goal state = 5\n",
    "# Best sequence path starting from 2 -> 2, 3, 1, 5"
   ]
  },
  {
   "cell_type": "code",
   "execution_count": 7,
   "metadata": {},
   "outputs": [
    {
     "output_type": "stream",
     "name": "stdout",
     "text": [
      "Selected path:\n[2, 3, 1, 5]\n"
     ]
    }
   ],
   "source": [
    "current_state = 2 # Initially we defined the current state as 2\n",
    "steps = [current_state]\n",
    "\n",
    "while current_state != 5: # Continue to be 5\n",
    "    next_step_index = np.where(Q[current_state,] == np.max(Q[current_state,]))[1] #Choose biggest state\n",
    "    \n",
    "    if next_step_index.shape[0] > 1:\n",
    "        next_step_index = int(np.random.choice(next_step_index, size = 1)) #If its more than 1\n",
    "    else:\n",
    "        next_step_index = int(next_step_index)\n",
    "    \n",
    "    steps.append(next_step_index) #And we append the choosen state to steps list\n",
    "    current_state = next_step_index \n",
    "\n",
    "# Print selected sequence of steps\n",
    "print(\"Selected path:\")\n",
    "print(steps)\n"
   ]
  }
 ]
}