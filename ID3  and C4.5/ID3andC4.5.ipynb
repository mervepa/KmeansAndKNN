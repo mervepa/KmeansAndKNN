{
 "cells": [
  {
   "cell_type": "code",
   "execution_count": 1,
   "metadata": {},
   "outputs": [
    {
     "output_type": "stream",
     "name": "stdout",
     "text": [
      "Requirement already satisfied: chefboost in c:\\users\\asus\\anaconda3\\lib\\site-packages (0.0.11)\nRequirement already satisfied: numpy>=1.14.0 in c:\\users\\asus\\anaconda3\\lib\\site-packages (from chefboost) (1.19.2)\nRequirement already satisfied: tqdm>=4.30.0 in c:\\users\\asus\\anaconda3\\lib\\site-packages (from chefboost) (4.50.2)\nRequirement already satisfied: psutil>=5.4.3 in c:\\users\\asus\\anaconda3\\lib\\site-packages (from chefboost) (5.7.2)\nRequirement already satisfied: pandas>=0.22.0 in c:\\users\\asus\\anaconda3\\lib\\site-packages (from chefboost) (1.1.3)\nRequirement already satisfied: pytz>=2017.2 in c:\\users\\asus\\anaconda3\\lib\\site-packages (from pandas>=0.22.0->chefboost) (2020.1)\nRequirement already satisfied: python-dateutil>=2.7.3 in c:\\users\\asus\\anaconda3\\lib\\site-packages (from pandas>=0.22.0->chefboost) (2.8.1)\nRequirement already satisfied: six>=1.5 in c:\\users\\asus\\anaconda3\\lib\\site-packages (from python-dateutil>=2.7.3->pandas>=0.22.0->chefboost) (1.15.0)\n"
     ]
    }
   ],
   "source": [
    "#To build decision trees and it supports categorical features.\n",
    "!pip install chefboost  "
   ]
  },
  {
   "cell_type": "code",
   "execution_count": 2,
   "id": "7f90648f",
   "metadata": {},
   "outputs": [],
   "source": [
    "from chefboost import Chefboost                        # Includes ID3 and C4.5 Decision Trees\n",
    "from sklearn.model_selection import train_test_split   #Split the data into test and train sets.\n",
    "from sklearn.metrics import accuracy_score             #Prediction accuracy\n",
    "from sklearn.model_selection import KFold              #Cross validation\n",
    "import pandas as pd\n",
    "import numpy as np"
   ]
  },
  {
   "cell_type": "code",
   "execution_count": 3,
   "id": "03d9dff0",
   "metadata": {},
   "outputs": [
    {
     "output_type": "execute_result",
     "data": {
      "text/plain": [
       "     0  1  2  3  4  5  6  7  8  9  ... 33 34 35 36 37 38 39 40 41 Decision\n",
       "0    b  b  b  b  b  b  b  b  b  b  ...  b  b  b  b  b  b  b  b  b      win\n",
       "1    b  b  b  b  b  b  b  b  b  b  ...  b  b  b  b  b  b  b  b  b      win\n",
       "2    b  b  b  b  b  b  o  b  b  b  ...  b  b  b  b  b  b  b  b  b      win\n",
       "3    b  b  b  b  b  b  b  b  b  b  ...  b  b  b  b  b  b  b  b  b      win\n",
       "4    o  b  b  b  b  b  b  b  b  b  ...  b  b  b  b  b  b  b  b  b      win\n",
       "..  .. .. .. .. .. .. .. .. .. ..  ... .. .. .. .. .. .. .. .. ..      ...\n",
       "495  b  b  b  b  b  b  b  b  b  b  ...  b  b  b  x  o  b  b  b  b      win\n",
       "496  b  b  b  b  b  b  b  b  b  b  ...  b  b  b  b  b  b  b  b  b      win\n",
       "497  b  b  b  b  b  b  b  b  b  b  ...  b  b  b  b  b  b  b  b  b      win\n",
       "498  b  b  b  b  b  b  b  b  b  b  ...  b  b  b  b  b  b  b  b  b      win\n",
       "499  b  b  b  b  b  b  b  b  b  b  ...  b  b  b  b  b  b  b  b  b      win\n",
       "\n",
       "[500 rows x 43 columns]"
      ],
      "text/html": "<div>\n<style scoped>\n    .dataframe tbody tr th:only-of-type {\n        vertical-align: middle;\n    }\n\n    .dataframe tbody tr th {\n        vertical-align: top;\n    }\n\n    .dataframe thead th {\n        text-align: right;\n    }\n</style>\n<table border=\"1\" class=\"dataframe\">\n  <thead>\n    <tr style=\"text-align: right;\">\n      <th></th>\n      <th>0</th>\n      <th>1</th>\n      <th>2</th>\n      <th>3</th>\n      <th>4</th>\n      <th>5</th>\n      <th>6</th>\n      <th>7</th>\n      <th>8</th>\n      <th>9</th>\n      <th>...</th>\n      <th>33</th>\n      <th>34</th>\n      <th>35</th>\n      <th>36</th>\n      <th>37</th>\n      <th>38</th>\n      <th>39</th>\n      <th>40</th>\n      <th>41</th>\n      <th>Decision</th>\n    </tr>\n  </thead>\n  <tbody>\n    <tr>\n      <th>0</th>\n      <td>b</td>\n      <td>b</td>\n      <td>b</td>\n      <td>b</td>\n      <td>b</td>\n      <td>b</td>\n      <td>b</td>\n      <td>b</td>\n      <td>b</td>\n      <td>b</td>\n      <td>...</td>\n      <td>b</td>\n      <td>b</td>\n      <td>b</td>\n      <td>b</td>\n      <td>b</td>\n      <td>b</td>\n      <td>b</td>\n      <td>b</td>\n      <td>b</td>\n      <td>win</td>\n    </tr>\n    <tr>\n      <th>1</th>\n      <td>b</td>\n      <td>b</td>\n      <td>b</td>\n      <td>b</td>\n      <td>b</td>\n      <td>b</td>\n      <td>b</td>\n      <td>b</td>\n      <td>b</td>\n      <td>b</td>\n      <td>...</td>\n      <td>b</td>\n      <td>b</td>\n      <td>b</td>\n      <td>b</td>\n      <td>b</td>\n      <td>b</td>\n      <td>b</td>\n      <td>b</td>\n      <td>b</td>\n      <td>win</td>\n    </tr>\n    <tr>\n      <th>2</th>\n      <td>b</td>\n      <td>b</td>\n      <td>b</td>\n      <td>b</td>\n      <td>b</td>\n      <td>b</td>\n      <td>o</td>\n      <td>b</td>\n      <td>b</td>\n      <td>b</td>\n      <td>...</td>\n      <td>b</td>\n      <td>b</td>\n      <td>b</td>\n      <td>b</td>\n      <td>b</td>\n      <td>b</td>\n      <td>b</td>\n      <td>b</td>\n      <td>b</td>\n      <td>win</td>\n    </tr>\n    <tr>\n      <th>3</th>\n      <td>b</td>\n      <td>b</td>\n      <td>b</td>\n      <td>b</td>\n      <td>b</td>\n      <td>b</td>\n      <td>b</td>\n      <td>b</td>\n      <td>b</td>\n      <td>b</td>\n      <td>...</td>\n      <td>b</td>\n      <td>b</td>\n      <td>b</td>\n      <td>b</td>\n      <td>b</td>\n      <td>b</td>\n      <td>b</td>\n      <td>b</td>\n      <td>b</td>\n      <td>win</td>\n    </tr>\n    <tr>\n      <th>4</th>\n      <td>o</td>\n      <td>b</td>\n      <td>b</td>\n      <td>b</td>\n      <td>b</td>\n      <td>b</td>\n      <td>b</td>\n      <td>b</td>\n      <td>b</td>\n      <td>b</td>\n      <td>...</td>\n      <td>b</td>\n      <td>b</td>\n      <td>b</td>\n      <td>b</td>\n      <td>b</td>\n      <td>b</td>\n      <td>b</td>\n      <td>b</td>\n      <td>b</td>\n      <td>win</td>\n    </tr>\n    <tr>\n      <th>...</th>\n      <td>...</td>\n      <td>...</td>\n      <td>...</td>\n      <td>...</td>\n      <td>...</td>\n      <td>...</td>\n      <td>...</td>\n      <td>...</td>\n      <td>...</td>\n      <td>...</td>\n      <td>...</td>\n      <td>...</td>\n      <td>...</td>\n      <td>...</td>\n      <td>...</td>\n      <td>...</td>\n      <td>...</td>\n      <td>...</td>\n      <td>...</td>\n      <td>...</td>\n      <td>...</td>\n    </tr>\n    <tr>\n      <th>495</th>\n      <td>b</td>\n      <td>b</td>\n      <td>b</td>\n      <td>b</td>\n      <td>b</td>\n      <td>b</td>\n      <td>b</td>\n      <td>b</td>\n      <td>b</td>\n      <td>b</td>\n      <td>...</td>\n      <td>b</td>\n      <td>b</td>\n      <td>b</td>\n      <td>x</td>\n      <td>o</td>\n      <td>b</td>\n      <td>b</td>\n      <td>b</td>\n      <td>b</td>\n      <td>win</td>\n    </tr>\n    <tr>\n      <th>496</th>\n      <td>b</td>\n      <td>b</td>\n      <td>b</td>\n      <td>b</td>\n      <td>b</td>\n      <td>b</td>\n      <td>b</td>\n      <td>b</td>\n      <td>b</td>\n      <td>b</td>\n      <td>...</td>\n      <td>b</td>\n      <td>b</td>\n      <td>b</td>\n      <td>b</td>\n      <td>b</td>\n      <td>b</td>\n      <td>b</td>\n      <td>b</td>\n      <td>b</td>\n      <td>win</td>\n    </tr>\n    <tr>\n      <th>497</th>\n      <td>b</td>\n      <td>b</td>\n      <td>b</td>\n      <td>b</td>\n      <td>b</td>\n      <td>b</td>\n      <td>b</td>\n      <td>b</td>\n      <td>b</td>\n      <td>b</td>\n      <td>...</td>\n      <td>b</td>\n      <td>b</td>\n      <td>b</td>\n      <td>b</td>\n      <td>b</td>\n      <td>b</td>\n      <td>b</td>\n      <td>b</td>\n      <td>b</td>\n      <td>win</td>\n    </tr>\n    <tr>\n      <th>498</th>\n      <td>b</td>\n      <td>b</td>\n      <td>b</td>\n      <td>b</td>\n      <td>b</td>\n      <td>b</td>\n      <td>b</td>\n      <td>b</td>\n      <td>b</td>\n      <td>b</td>\n      <td>...</td>\n      <td>b</td>\n      <td>b</td>\n      <td>b</td>\n      <td>b</td>\n      <td>b</td>\n      <td>b</td>\n      <td>b</td>\n      <td>b</td>\n      <td>b</td>\n      <td>win</td>\n    </tr>\n    <tr>\n      <th>499</th>\n      <td>b</td>\n      <td>b</td>\n      <td>b</td>\n      <td>b</td>\n      <td>b</td>\n      <td>b</td>\n      <td>b</td>\n      <td>b</td>\n      <td>b</td>\n      <td>b</td>\n      <td>...</td>\n      <td>b</td>\n      <td>b</td>\n      <td>b</td>\n      <td>b</td>\n      <td>b</td>\n      <td>b</td>\n      <td>b</td>\n      <td>b</td>\n      <td>b</td>\n      <td>win</td>\n    </tr>\n  </tbody>\n</table>\n<p>500 rows × 43 columns</p>\n</div>"
     },
     "metadata": {},
     "execution_count": 3
    }
   ],
   "source": [
    "X = pd.read_csv(\"connect-4.data\", header=None)[:500]       # Read the dataset (first 500 row)      \n",
    "\n",
    "#Add column names (We must change 42th column as 'Decision' because of avoid error of Chefboost )\n",
    "columns = ['0', '1', '2', '3', '4', '5', '6', '7','8', '9', '10', '11', '12', '13', '14', '15', '16', '17', '18', '19', '20', '21', '22', '23', '24', '25', '26', '27', '28', '29', '30', '31', '32', '33', '34', '35', '36', '37', '38', '39', '40', '41', 'Decision']\n",
    "X.columns = columns\n",
    "X\n"
   ]
  },
  {
   "cell_type": "code",
   "execution_count": 4,
   "id": "f50fb018",
   "metadata": {},
   "outputs": [
    {
     "output_type": "stream",
     "name": "stdout",
     "text": [
      "FOLD 1\n",
      "***************************************************************************\n",
      "Fold 1: Training C4.5\n",
      "---------------------------------\n",
      "C4.5  tree is going to be built...\n",
      "-------------------------\n",
      "finished in  74.58847641944885  seconds\n",
      "-------------------------\n",
      "Evaluate  train set\n",
      "-------------------------\n",
      "Accuracy:  100.0 % on  250  instances\n",
      "Labels:  ['loss' 'win' 'draw']\n",
      "Confusion matrix:  [[56, 0, 0], [0, 182, 0], [0, 0, 12]]\n",
      "Decision  loss  => Accuray:  100.0 %, Precision:  100.0 %, Recall:  100.0 %, F1:  100.0 %\n",
      "Decision  win  => Accuray:  100.0 %, Precision:  100.0 %, Recall:  100.0 %, F1:  100.0 %\n",
      "Decision  draw  => Accuray:  100.0 %, Precision:  100.0 %, Recall:  100.0 %, F1:  100.0 %\n",
      "\n",
      "\n",
      "Fold 1: Training ID3\n",
      "-------------------------------\n",
      "ID3  tree is going to be built...\n",
      "-------------------------\n",
      "finished in  64.87877488136292  seconds\n",
      "-------------------------\n",
      "Evaluate  train set\n",
      "-------------------------\n",
      "Accuracy:  100.0 % on  250  instances\n",
      "Labels:  ['loss' 'win' 'draw']\n",
      "Confusion matrix:  [[56, 0, 0], [0, 182, 0], [0, 0, 12]]\n",
      "Decision  loss  => Accuray:  100.0 %, Precision:  100.0 %, Recall:  100.0 %, F1:  100.0 %\n",
      "Decision  win  => Accuray:  100.0 %, Precision:  100.0 %, Recall:  100.0 %, F1:  100.0 %\n",
      "Decision  draw  => Accuray:  100.0 %, Precision:  100.0 %, Recall:  100.0 %, F1:  100.0 %\n",
      "Iter 1: C4.5 DT Accuracy: 0.700\n",
      "Iter 1: ID3  DT Accuracy: 0.700\n",
      "FOLD 2\n",
      "***************************************************************************\n",
      "Fold 2: Training C4.5\n",
      "---------------------------------\n",
      "C4.5  tree is going to be built...\n",
      "-------------------------\n",
      "finished in  69.99886775016785  seconds\n",
      "-------------------------\n",
      "Evaluate  train set\n",
      "-------------------------\n",
      "Accuracy:  100.0 % on  250  instances\n",
      "Labels:  ['win' 'draw' 'loss']\n",
      "Confusion matrix:  [[177, 0, 0], [0, 20, 0], [0, 0, 53]]\n",
      "Decision  win  => Accuray:  100.0 %, Precision:  100.0 %, Recall:  100.0 %, F1:  100.0 %\n",
      "Decision  draw  => Accuray:  100.0 %, Precision:  100.0 %, Recall:  100.0 %, F1:  100.0 %\n",
      "Decision  loss  => Accuray:  100.0 %, Precision:  100.0 %, Recall:  100.0 %, F1:  100.0 %\n",
      "\n",
      "\n",
      "Fold 2: Training ID3\n",
      "-------------------------------\n",
      "ID3  tree is going to be built...\n",
      "-------------------------\n",
      "finished in  65.3652982711792  seconds\n",
      "-------------------------\n",
      "Evaluate  train set\n",
      "-------------------------\n",
      "Accuracy:  100.0 % on  250  instances\n",
      "Labels:  ['win' 'draw' 'loss']\n",
      "Confusion matrix:  [[177, 0, 0], [0, 20, 0], [0, 0, 53]]\n",
      "Decision  win  => Accuray:  100.0 %, Precision:  100.0 %, Recall:  100.0 %, F1:  100.0 %\n",
      "Decision  draw  => Accuray:  100.0 %, Precision:  100.0 %, Recall:  100.0 %, F1:  100.0 %\n",
      "Decision  loss  => Accuray:  100.0 %, Precision:  100.0 %, Recall:  100.0 %, F1:  100.0 %\n",
      "Iter 2: C4.5 DT Accuracy: 0.456\n",
      "Iter 2: ID3  DT Accuracy: 0.456\n"
     ]
    }
   ],
   "source": [
    "#2-fold cross splitting the dataset and model training for ID3 and C4.5\n",
    "k = 2                                       \n",
    "kfold = KFold(n_splits=k, random_state=None, shuffle=False)\n",
    "\n",
    "i = 1\n",
    "\n",
    "for train_index , test_index in kfold.split(X): #Spilitting the indices for every fold.\n",
    "    X_train, X_test = X.iloc[train_index,:], X.iloc[test_index,:]\n",
    "    print(\"FOLD %d\"%i)\n",
    "    print(\"***************************************************************************\")\n",
    "    print(\"Fold %d: Training C4.5\\n---------------------------------\"%i)\n",
    "    c45model = Chefboost.fit(X_train.copy(), {'algorithm': 'C4.5'}) #Create model (copy of data is sent to fit function).\n",
    "    print(\"\\n\\nFold %d: Training ID3\\n-------------------------------\"%i)\n",
    "    id3model = Chefboost.fit(X_train.copy(), {'algorithm': 'ID3'}) #Create model (copy of data is sent to fit function).\n",
    "\n",
    "\n",
    "    prid3 = [] #Prediction list id3\n",
    "    prc45 = [] #Prediction list c4.5\n",
    "\n",
    "    for j in range(X_test.shape[0]): # Taking every row in test set one by one.(Difference from sklearn we sent model directly ).\n",
    "        prc45.append(Chefboost.predict(c45model, X_test.iloc[j])) \n",
    "        prid3.append(Chefboost.predict(id3model, X_test.iloc[j]))\n",
    "\n",
    "    #Comparing prediction list elements with the test set label for the accuracy score.\n",
    "    print(\"Iter %d: C4.5 DT Accuracy: %.3f\"%(i, accuracy_score(prc45, X_test['Decision']))) \n",
    "    print(\"Iter %d: ID3  DT Accuracy: %.3f\"%(i, accuracy_score(prid3, X_test['Decision'])))\n",
    "    i = i+1"
   ]
  }
 ],
 "metadata": {
  "kernelspec": {
   "name": "python385jvsc74a57bd031ff804e05c542abfdab620000e5333bc9afc6a565bbee95afa27485d8eec998",
   "display_name": "Python 3.8.5 64-bit (conda)"
  },
  "language_info": {
   "codemirror_mode": {
    "name": "ipython",
    "version": 3
   },
   "file_extension": ".py",
   "mimetype": "text/x-python",
   "name": "python",
   "nbconvert_exporter": "python",
   "pygments_lexer": "ipython3",
   "version": "3.8.5-final"
  }
 },
 "nbformat": 4,
 "nbformat_minor": 5
}