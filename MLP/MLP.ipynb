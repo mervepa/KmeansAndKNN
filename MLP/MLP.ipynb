{
 "metadata": {
  "language_info": {
   "codemirror_mode": {
    "name": "ipython",
    "version": 3
   },
   "file_extension": ".py",
   "mimetype": "text/x-python",
   "name": "python",
   "nbconvert_exporter": "python",
   "pygments_lexer": "ipython3",
   "version": "3.8.5"
  },
  "orig_nbformat": 2,
  "kernelspec": {
   "name": "python385jvsc74a57bd031ff804e05c542abfdab620000e5333bc9afc6a565bbee95afa27485d8eec998",
   "display_name": "Python 3.8.5 64-bit ('base': conda)"
  }
 },
 "nbformat": 4,
 "nbformat_minor": 2,
 "cells": [
  {
   "source": [
    "## INTRODUCTION TO MACHINE LEARNING COURSE\n",
    "\n",
    "### Task 5 : The student must use the Multi-Layer Perceptron Neural Network model to make a decision on two sample datasets (one for regression and one for classification), then interpret the results.\n",
    "\n",
    "### NAME : MERVE PARLAK , ID : 2015556055"
   ],
   "cell_type": "markdown",
   "metadata": {}
  },
  {
   "cell_type": "code",
   "execution_count": 1,
   "metadata": {},
   "outputs": [],
   "source": [
    "import pandas as pd\n",
    "import numpy  as np\n",
    "import sklearn\n",
    "from sklearn.neural_network import MLPClassifier \n",
    "from sklearn.neural_network import MLPRegressor\n",
    "from sklearn.model_selection import KFold"
   ]
  },
  {
   "source": [
    "## REGRESSION"
   ],
   "cell_type": "markdown",
   "metadata": {}
  },
  {
   "cell_type": "code",
   "execution_count": 2,
   "metadata": {},
   "outputs": [],
   "source": [
    "X_reg = pd.read_csv('RedWineQuality.csv')\n",
    "y_reg = X_reg['quality']\n",
    "X_reg = X_reg.drop('quality', axis=1)"
   ]
  },
  {
   "cell_type": "code",
   "execution_count": 3,
   "metadata": {},
   "outputs": [
    {
     "output_type": "stream",
     "name": "stdout",
     "text": [
      "Fold: 1, \tMLP Regression Prediction Accuracy: 0.3019582814764624\n",
      "Fold: 2, \tMLP Regression Prediction Accuracy: 0.32811718835299564\n"
     ]
    }
   ],
   "source": [
    "k = 2\n",
    "kfold = KFold(n_splits=k, shuffle=True)\n",
    "\n",
    "fold_no = 1\n",
    "for train_index, test_index in kfold.split(X_reg, y_reg):\n",
    "    X_train, y_train, X_test, y_test = X_reg.iloc[train_index], y_reg[train_index], X_reg.iloc[test_index], y_reg[test_index]\n",
    "    mlpregModel = MLPRegressor(random_state=1, max_iter=400)\n",
    "    mlpregModel.fit(X_train, y_train)\n",
    "    prediction = mlpregModel.predict(X_test)\n",
    "    acc_score = mlpregModel.score(X_test, y_test)\n",
    "    print(f\"Fold: {fold_no}, \\tMLP Regression Prediction Accuracy: {acc_score}\")\n",
    "    fold_no += 1"
   ]
  },
  {
   "source": [
    "## CLASSIFICATION"
   ],
   "cell_type": "markdown",
   "metadata": {}
  },
  {
   "cell_type": "code",
   "execution_count": 4,
   "metadata": {},
   "outputs": [
    {
     "output_type": "execute_result",
     "data": {
      "text/plain": [
       "     pixel1  pixel2  pixel3    pixel4    pixel5  pixel6  pixel7    pixel8  \\\n",
       "0       0.0     0.0     0.0  0.000000  0.000000     0.0     0.0  0.000000   \n",
       "1       0.0     0.0     0.0  0.000000  0.000000     0.0     0.0  0.000000   \n",
       "2       0.0     0.0     0.0  0.000000  0.000000     0.0     0.0  0.019608   \n",
       "3       0.0     0.0     0.0  0.003922  0.007843     0.0     0.0  0.000000   \n",
       "4       0.0     0.0     0.0  0.000000  0.000000     0.0     0.0  0.000000   \n",
       "..      ...     ...     ...       ...       ...     ...     ...       ...   \n",
       "495     0.0     0.0     0.0  0.000000  0.000000     0.0     0.0  0.000000   \n",
       "496     0.0     0.0     0.0  0.000000  0.000000     0.0     0.0  0.015686   \n",
       "497     0.0     0.0     0.0  0.000000  0.000000     0.0     0.0  0.000000   \n",
       "498     0.0     0.0     0.0  0.000000  0.000000     0.0     0.0  0.000000   \n",
       "499     0.0     0.0     0.0  0.000000  0.000000     0.0     0.0  0.000000   \n",
       "\n",
       "       pixel9   pixel10  ...  pixel775  pixel776  pixel777  pixel778  \\\n",
       "0    0.000000  0.000000  ...  0.000000  0.000000  0.000000  0.000000   \n",
       "1    0.000000  0.000000  ...  0.000000  0.000000  0.000000  0.000000   \n",
       "2    0.000000  0.000000  ...  0.000000  0.000000  0.000000  0.117647   \n",
       "3    0.000000  0.000000  ...  0.011765  0.000000  0.000000  0.000000   \n",
       "4    0.000000  0.000000  ...  0.000000  0.000000  0.000000  0.000000   \n",
       "..        ...       ...  ...       ...       ...       ...       ...   \n",
       "495  0.000000  0.000000  ...  0.003922  0.000000  0.007843  0.541176   \n",
       "496  0.000000  0.000000  ...  0.909804  0.839216  0.670588  0.392157   \n",
       "497  0.023529  0.200000  ...  0.254902  0.227451  0.172549  0.337255   \n",
       "498  0.000000  0.070588  ...  0.309804  0.321569  0.266667  0.000000   \n",
       "499  0.125490  0.400000  ...  0.000000  0.000000  0.000000  0.000000   \n",
       "\n",
       "     pixel779  pixel780  pixel781  pixel782  pixel783  pixel784  \n",
       "0    0.000000  0.000000  0.000000       0.0       0.0       0.0  \n",
       "1    0.000000  0.000000  0.000000       0.0       0.0       0.0  \n",
       "2    0.168627  0.000000  0.000000       0.0       0.0       0.0  \n",
       "3    0.000000  0.003922  0.000000       0.0       0.0       0.0  \n",
       "4    0.000000  0.000000  0.000000       0.0       0.0       0.0  \n",
       "..        ...       ...       ...       ...       ...       ...  \n",
       "495  0.564706  0.474510  0.000000       0.0       0.0       0.0  \n",
       "496  0.000000  0.000000  0.000000       0.0       0.0       0.0  \n",
       "497  0.050980  0.000000  0.011765       0.0       0.0       0.0  \n",
       "498  0.000000  0.000000  0.000000       0.0       0.0       0.0  \n",
       "499  0.000000  0.000000  0.000000       0.0       0.0       0.0  \n",
       "\n",
       "[500 rows x 784 columns]"
      ],
      "text/html": "<div>\n<style scoped>\n    .dataframe tbody tr th:only-of-type {\n        vertical-align: middle;\n    }\n\n    .dataframe tbody tr th {\n        vertical-align: top;\n    }\n\n    .dataframe thead th {\n        text-align: right;\n    }\n</style>\n<table border=\"1\" class=\"dataframe\">\n  <thead>\n    <tr style=\"text-align: right;\">\n      <th></th>\n      <th>pixel1</th>\n      <th>pixel2</th>\n      <th>pixel3</th>\n      <th>pixel4</th>\n      <th>pixel5</th>\n      <th>pixel6</th>\n      <th>pixel7</th>\n      <th>pixel8</th>\n      <th>pixel9</th>\n      <th>pixel10</th>\n      <th>...</th>\n      <th>pixel775</th>\n      <th>pixel776</th>\n      <th>pixel777</th>\n      <th>pixel778</th>\n      <th>pixel779</th>\n      <th>pixel780</th>\n      <th>pixel781</th>\n      <th>pixel782</th>\n      <th>pixel783</th>\n      <th>pixel784</th>\n    </tr>\n  </thead>\n  <tbody>\n    <tr>\n      <th>0</th>\n      <td>0.0</td>\n      <td>0.0</td>\n      <td>0.0</td>\n      <td>0.000000</td>\n      <td>0.000000</td>\n      <td>0.0</td>\n      <td>0.0</td>\n      <td>0.000000</td>\n      <td>0.000000</td>\n      <td>0.000000</td>\n      <td>...</td>\n      <td>0.000000</td>\n      <td>0.000000</td>\n      <td>0.000000</td>\n      <td>0.000000</td>\n      <td>0.000000</td>\n      <td>0.000000</td>\n      <td>0.000000</td>\n      <td>0.0</td>\n      <td>0.0</td>\n      <td>0.0</td>\n    </tr>\n    <tr>\n      <th>1</th>\n      <td>0.0</td>\n      <td>0.0</td>\n      <td>0.0</td>\n      <td>0.000000</td>\n      <td>0.000000</td>\n      <td>0.0</td>\n      <td>0.0</td>\n      <td>0.000000</td>\n      <td>0.000000</td>\n      <td>0.000000</td>\n      <td>...</td>\n      <td>0.000000</td>\n      <td>0.000000</td>\n      <td>0.000000</td>\n      <td>0.000000</td>\n      <td>0.000000</td>\n      <td>0.000000</td>\n      <td>0.000000</td>\n      <td>0.0</td>\n      <td>0.0</td>\n      <td>0.0</td>\n    </tr>\n    <tr>\n      <th>2</th>\n      <td>0.0</td>\n      <td>0.0</td>\n      <td>0.0</td>\n      <td>0.000000</td>\n      <td>0.000000</td>\n      <td>0.0</td>\n      <td>0.0</td>\n      <td>0.019608</td>\n      <td>0.000000</td>\n      <td>0.000000</td>\n      <td>...</td>\n      <td>0.000000</td>\n      <td>0.000000</td>\n      <td>0.000000</td>\n      <td>0.117647</td>\n      <td>0.168627</td>\n      <td>0.000000</td>\n      <td>0.000000</td>\n      <td>0.0</td>\n      <td>0.0</td>\n      <td>0.0</td>\n    </tr>\n    <tr>\n      <th>3</th>\n      <td>0.0</td>\n      <td>0.0</td>\n      <td>0.0</td>\n      <td>0.003922</td>\n      <td>0.007843</td>\n      <td>0.0</td>\n      <td>0.0</td>\n      <td>0.000000</td>\n      <td>0.000000</td>\n      <td>0.000000</td>\n      <td>...</td>\n      <td>0.011765</td>\n      <td>0.000000</td>\n      <td>0.000000</td>\n      <td>0.000000</td>\n      <td>0.000000</td>\n      <td>0.003922</td>\n      <td>0.000000</td>\n      <td>0.0</td>\n      <td>0.0</td>\n      <td>0.0</td>\n    </tr>\n    <tr>\n      <th>4</th>\n      <td>0.0</td>\n      <td>0.0</td>\n      <td>0.0</td>\n      <td>0.000000</td>\n      <td>0.000000</td>\n      <td>0.0</td>\n      <td>0.0</td>\n      <td>0.000000</td>\n      <td>0.000000</td>\n      <td>0.000000</td>\n      <td>...</td>\n      <td>0.000000</td>\n      <td>0.000000</td>\n      <td>0.000000</td>\n      <td>0.000000</td>\n      <td>0.000000</td>\n      <td>0.000000</td>\n      <td>0.000000</td>\n      <td>0.0</td>\n      <td>0.0</td>\n      <td>0.0</td>\n    </tr>\n    <tr>\n      <th>...</th>\n      <td>...</td>\n      <td>...</td>\n      <td>...</td>\n      <td>...</td>\n      <td>...</td>\n      <td>...</td>\n      <td>...</td>\n      <td>...</td>\n      <td>...</td>\n      <td>...</td>\n      <td>...</td>\n      <td>...</td>\n      <td>...</td>\n      <td>...</td>\n      <td>...</td>\n      <td>...</td>\n      <td>...</td>\n      <td>...</td>\n      <td>...</td>\n      <td>...</td>\n      <td>...</td>\n    </tr>\n    <tr>\n      <th>495</th>\n      <td>0.0</td>\n      <td>0.0</td>\n      <td>0.0</td>\n      <td>0.000000</td>\n      <td>0.000000</td>\n      <td>0.0</td>\n      <td>0.0</td>\n      <td>0.000000</td>\n      <td>0.000000</td>\n      <td>0.000000</td>\n      <td>...</td>\n      <td>0.003922</td>\n      <td>0.000000</td>\n      <td>0.007843</td>\n      <td>0.541176</td>\n      <td>0.564706</td>\n      <td>0.474510</td>\n      <td>0.000000</td>\n      <td>0.0</td>\n      <td>0.0</td>\n      <td>0.0</td>\n    </tr>\n    <tr>\n      <th>496</th>\n      <td>0.0</td>\n      <td>0.0</td>\n      <td>0.0</td>\n      <td>0.000000</td>\n      <td>0.000000</td>\n      <td>0.0</td>\n      <td>0.0</td>\n      <td>0.015686</td>\n      <td>0.000000</td>\n      <td>0.000000</td>\n      <td>...</td>\n      <td>0.909804</td>\n      <td>0.839216</td>\n      <td>0.670588</td>\n      <td>0.392157</td>\n      <td>0.000000</td>\n      <td>0.000000</td>\n      <td>0.000000</td>\n      <td>0.0</td>\n      <td>0.0</td>\n      <td>0.0</td>\n    </tr>\n    <tr>\n      <th>497</th>\n      <td>0.0</td>\n      <td>0.0</td>\n      <td>0.0</td>\n      <td>0.000000</td>\n      <td>0.000000</td>\n      <td>0.0</td>\n      <td>0.0</td>\n      <td>0.000000</td>\n      <td>0.023529</td>\n      <td>0.200000</td>\n      <td>...</td>\n      <td>0.254902</td>\n      <td>0.227451</td>\n      <td>0.172549</td>\n      <td>0.337255</td>\n      <td>0.050980</td>\n      <td>0.000000</td>\n      <td>0.011765</td>\n      <td>0.0</td>\n      <td>0.0</td>\n      <td>0.0</td>\n    </tr>\n    <tr>\n      <th>498</th>\n      <td>0.0</td>\n      <td>0.0</td>\n      <td>0.0</td>\n      <td>0.000000</td>\n      <td>0.000000</td>\n      <td>0.0</td>\n      <td>0.0</td>\n      <td>0.000000</td>\n      <td>0.000000</td>\n      <td>0.070588</td>\n      <td>...</td>\n      <td>0.309804</td>\n      <td>0.321569</td>\n      <td>0.266667</td>\n      <td>0.000000</td>\n      <td>0.000000</td>\n      <td>0.000000</td>\n      <td>0.000000</td>\n      <td>0.0</td>\n      <td>0.0</td>\n      <td>0.0</td>\n    </tr>\n    <tr>\n      <th>499</th>\n      <td>0.0</td>\n      <td>0.0</td>\n      <td>0.0</td>\n      <td>0.000000</td>\n      <td>0.000000</td>\n      <td>0.0</td>\n      <td>0.0</td>\n      <td>0.000000</td>\n      <td>0.125490</td>\n      <td>0.400000</td>\n      <td>...</td>\n      <td>0.000000</td>\n      <td>0.000000</td>\n      <td>0.000000</td>\n      <td>0.000000</td>\n      <td>0.000000</td>\n      <td>0.000000</td>\n      <td>0.000000</td>\n      <td>0.0</td>\n      <td>0.0</td>\n      <td>0.0</td>\n    </tr>\n  </tbody>\n</table>\n<p>500 rows × 784 columns</p>\n</div>"
     },
     "metadata": {},
     "execution_count": 4
    }
   ],
   "source": [
    "X_class = pd.read_csv('Train.csv')[:500]  \n",
    "y_class = X_class['label']                                     \n",
    "X_class = X_class.drop('label', axis=1)                        \n",
    "\n",
    "X_class = X_class.astype('float32')                            # Convert colors into Greyscale\n",
    "X_class /= 255\n",
    "\n",
    "y_class = y_class.astype('category') \n",
    "X_class  "
   ]
  },
  {
   "cell_type": "code",
   "execution_count": 5,
   "metadata": {},
   "outputs": [
    {
     "output_type": "stream",
     "name": "stdout",
     "text": [
      "Fold: 1, \tMLP Classification Prediction Accuracy: 0.732\n",
      "Fold: 2, \tMLP Classification Prediction Accuracy: 0.78\n"
     ]
    }
   ],
   "source": [
    "k = 2\n",
    "kfold = KFold(n_splits=k, shuffle=True)\n",
    "\n",
    "fold_num = 1\n",
    "for train_index, test_index in kfold.split(X_class, y_class):\n",
    "    X_train, y_train, X_test, y_test = X_class.iloc[train_index], y_class[train_index], X_class.iloc[test_index], y_class[test_index]\n",
    "    mlpclassModel = MLPClassifier(random_state=1, max_iter=400)\n",
    "    mlpclassModel.fit(X_train, y_train)\n",
    "    prediction = mlpclassModel.predict(X_test)\n",
    "    accs_score = mlpclassModel.score(X_test, y_test)\n",
    "    print(f\"Fold: {fold_num}, \\tMLP Classification Prediction Accuracy: {accs_score}\")\n",
    "    fold_num += 1"
   ]
  }
 ]
}